{
 "cells": [
  {
   "cell_type": "markdown",
   "metadata": {},
   "source": [
    "### Exercise 5: Subplot Layout"
   ]
  },
  {
   "cell_type": "code",
   "execution_count": null,
   "metadata": {},
   "outputs": [],
   "source": [
    "\n",
    "import matplotlib.pyplot as plt\n",
    "import numpy as np\n",
    "\n",
    "# Data for plots\n",
    "x = np.linspace(0, 10, 100)\n",
    "y_line = np.sin(x)\n",
    "x_bar = ['A', 'B', 'C', 'D']\n",
    "y_bar = [5, 7, 3, 9]\n",
    "x_scatter = [1, 2, 3, 4, 5]\n",
    "y_scatter = [2, 4, 6, 8, 10]\n",
    "labels_pie = ['Python', 'Java', 'C++', 'JavaScript']\n",
    "sizes_pie = [40, 25, 20, 15]\n",
    "\n",
    "# Create subplots\n",
    "fig, axs = plt.subplots(2, 2, figsize=(12, 8))\n",
    "\n",
    "# Line chart\n",
    "axs[0, 0].plot(x, y_line)\n",
    "axs[0, 0].set_title('Line Chart')\n",
    "\n",
    "# Bar chart\n",
    "axs[0, 1].bar(x_bar, y_bar)\n",
    "axs[0, 1].set_title('Bar Chart')\n",
    "\n",
    "# Scatter plot\n",
    "axs[1, 0].scatter(x_scatter, y_scatter)\n",
    "axs[1, 0].set_title('Scatter Plot')\n",
    "\n",
    "# Pie chart\n",
    "axs[1, 1].pie(sizes_pie, labels=labels_pie, autopct='%1.1f%%')\n",
    "axs[1, 1].set_title('Pie Chart')\n",
    "axs[1, 1].axis('equal')\n",
    "\n",
    "# Layout so plots do not overlap\n",
    "fig.tight_layout()\n",
    "\n",
    "plt.show()\n"
   ]
  }
 ],
 "metadata": {
  "kernelspec": {
   "display_name": "Python 3",
   "language": "python",
   "name": "python3"
  },
  "language_info": {
   "codemirror_mode": {
    "name": "ipython",
    "version": 3
   },
   "file_extension": ".py",
   "mimetype": "text/x-python",
   "name": "python",
   "nbconvert_exporter": "python",
   "pygments_lexer": "ipython3",
   "version": "3.10.12"
  }
 },
 "nbformat": 4,
 "nbformat_minor": 2
}
